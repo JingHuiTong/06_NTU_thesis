{
 "cells": [
  {
   "cell_type": "code",
   "execution_count": 1,
   "id": "3737bcb7-650d-482c-af81-a1b69135062f",
   "metadata": {},
   "outputs": [],
   "source": [
    "from obspy.taup import plot_travel_times\n",
    "from obspy.taup import TauPyModel\n",
    "import matplotlib.pyplot as plt\n",
    "model = TauPyModel(model=\"iasp91\")"
   ]
  },
  {
   "cell_type": "code",
   "execution_count": 5,
   "id": "cc07b9d3-1877-4656-851b-b168e78859a5",
   "metadata": {},
   "outputs": [
    {
     "name": "stdout",
     "output_type": "stream",
     "text": [
      "ewew\n",
      "ewew\n",
      "ewew\n",
      "ewew\n",
      "ewew\n",
      "ewew\n",
      "ewew\n",
      "ewew\n",
      "ewew\n",
      "ewew\n",
      "ewew\n",
      "ewew\n",
      "ewew\n",
      "ewew\n",
      "ewew\n",
      "ewew\n",
      "ewew\n",
      "ewew\n",
      "ewew\n",
      "ewew\n",
      "ewew\n",
      "ewew\n",
      "ewew\n",
      "ewew\n",
      "ewew\n",
      "ewew\n",
      "ewew\n",
      "ewew\n",
      "ewew\n",
      "ewew\n",
      "ewew\n",
      "ewew\n",
      "ewew\n",
      "ewew\n",
      "ewew\n",
      "ewew\n",
      "ewew\n",
      "ewew\n",
      "ewew\n",
      "ewew\n",
      "ewew\n",
      "ewew\n",
      "ewew\n",
      "ewew\n",
      "ewew\n",
      "ewew\n",
      "ewew\n",
      "ewew\n",
      "ewew\n",
      "ewew\n",
      "ewew\n",
      "ewew\n",
      "ewew\n",
      "ewew\n",
      "ewew\n",
      "ewew\n",
      "ewew\n",
      "ewew\n",
      "There were 18 epicentral distances without an arrival\n"
     ]
    },
    {
     "data": {
      "image/png": "[encoded data removed]",
      "text/plain": [
       "<Figure size 288x504 with 1 Axes>"
      ]
     },
     "metadata": {
      "needs_background": "light"
     },
     "output_type": "display_data"
    }
   ],
   "source": [
    "fig, ax = plt.subplots(figsize=(4, 7))\n",
    "ax = plot_travel_times(source_depth=10, phase_list=[\"SKS\", \"SKKS\"],\n",
    "                       ax=ax, fig=fig, verbose=True, legend=True)\n",
    "fig.savefig('TravelTime.png',dpi=200)\n",
    "fig.savefig('TravelTime.pdf',dpi=200)"
   ]
  },
  {
   "cell_type": "code",
   "execution_count": 3,
   "id": "edef3967-59c4-4429-83c7-1df4aa2594ee",
   "metadata": {},
   "outputs": [
    {
     "data": {
      "text/plain": [
       "<AxesSubplot:xlabel='Distance (degrees)', ylabel='Time (minutes)'>"
      ]
     },
     "execution_count": 3,
     "metadata": {},
     "output_type": "execute_result"
    }
   ],
   "source": [
    "ax"
   ]
  },
  {
   "cell_type": "code",
   "execution_count": null,
   "id": "e4ad2148-01f7-4b51-9557-d390ab859d3c",
   "metadata": {},
   "outputs": [],
   "source": []
  }
 ],
 "metadata": {
  "kernelspec": {
   "display_name": "Python 3 (ipykernel)",
   "language": "python",
   "name": "python3"
  },
  "language_info": {
   "codemirror_mode": {
    "name": "ipython",
    "version": 3
   },
   "file_extension": ".py",
   "mimetype": "text/x-python",
   "name": "python",
   "nbconvert_exporter": "python",
   "pygments_lexer": "ipython3",
   "version": "3.9.6"
  }
 },
 "nbformat": 4,
 "nbformat_minor": 5
}
