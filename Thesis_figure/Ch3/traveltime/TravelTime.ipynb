{
 "cells": [
  {
   "cell_type": "code",
   "execution_count": null,
   "id": "3737bcb7-650d-482c-af81-a1b69135062f",
   "metadata": {},
   "outputs": [
    {
     "ename": "",
     "evalue": "",
     "output_type": "error",
     "traceback": [
      "\u001b[1;31mFailed to start the Kernel. \n",
      "Kernel obspy (Python 3.10.5) is not usable. Check the Jupyter output tab for more information. \n",
      "View Jupyter <a href='command:jupyter.viewOutput'>log</a> for further details."
     ]
    }
   ],
   "source": [
    "from obspy.taup import plot_travel_times\n",
    "from obspy.taup import TauPyModel\n",
    "import matplotlib.pyplot as plt\n",
    "\n",
    "model = TauPyModel(model=\"iasp91\")"
   ]
  },
  {
   "cell_type": "code",
   "execution_count": null,
   "id": "cc07b9d3-1877-4656-851b-b168e78859a5",
   "metadata": {},
   "outputs": [],
   "source": [
    "fig, ax = plt.subplots(figsize=(4, 7))\n",
    "ax = plot_travel_times(source_depth=10, phase_list=[\"SKS\", \"SKKS\"],\n",
    "                       ax=ax, fig=fig, verbose=True, legend=True)\n",
    "# fig.savefig('TravelTime.png',dpi=200)\n",
    "# fig.savefig('TravelTime.pdf',dpi=200)"
   ]
  },
  {
   "cell_type": "code",
   "execution_count": null,
   "id": "edef3967-59c4-4429-83c7-1df4aa2594ee",
   "metadata": {},
   "outputs": [],
   "source": [
    "ax"
   ]
  },
  {
   "cell_type": "code",
   "execution_count": null,
   "id": "e4ad2148-01f7-4b51-9557-d390ab859d3c",
   "metadata": {},
   "outputs": [],
   "source": []
  }
 ],
 "metadata": {
  "interpreter": {
   "hash": "19929eedae2c6341a5fa14098ac29739e02affa232301e1ce5979c7b24508a9c"
  },
  "kernelspec": {
   "display_name": "Python 3.8.10 64-bit (conda)",
   "language": "python",
   "name": "python3"
  },
  "language_info": {
   "codemirror_mode": {
    "name": "ipython",
    "version": 3
   },
   "file_extension": ".py",
   "mimetype": "text/x-python",
   "name": "python",
   "nbconvert_exporter": "python",
   "pygments_lexer": "ipython3",
   "version": "3.10.5"
  }
 },
 "nbformat": 4,
 "nbformat_minor": 5
}
