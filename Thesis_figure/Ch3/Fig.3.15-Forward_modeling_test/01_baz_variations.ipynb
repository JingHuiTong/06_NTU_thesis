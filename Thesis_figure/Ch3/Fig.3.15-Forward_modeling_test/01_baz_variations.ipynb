{
 "cells": [
  {
   "cell_type": "code",
   "execution_count": 1,
   "metadata": {},
   "outputs": [],
   "source": [
    "import matplotlib.pyplot as plt\n",
    "import numpy as np\n",
    "import pickle\n",
    "import stdb\n",
    "import matplotlib\n",
    "import os, glob"
   ]
  },
  {
   "cell_type": "code",
   "execution_count": 8,
   "metadata": {},
   "outputs": [],
   "source": [
    "datapath = 'DATA_SKS_Model'\n",
    "time = '20220225_105927'\n",
    "datadir = f'{datapath}/XX.MOD/{time}'\n",
    "FD=0"
   ]
  },
  {
   "cell_type": "code",
   "execution_count": 14,
   "metadata": {},
   "outputs": [],
   "source": [
    "def readPKL(bazpath):\n",
    "    metafile = f'{bazpath}/Meta_data.pkl'\n",
    "    RCfile = f'{bazpath}/RC_res.pkl'\n",
    "    SCfile = f'{bazpath}/SC_res.pkl'\n",
    "    meta = pickle.load(open(metafile, \"rb\"))\n",
    "    RC = pickle.load(open(RCfile, \"rb\"))\n",
    "    SC = pickle.load(open(SCfile, \"rb\"))\n",
    "    return meta, RC, SC\n",
    "\n",
    "def phiPlot(ax):\n",
    "    ax.set_ylabel('Fast Direction (°)',fontsize=15)\n",
    "    ax.set_xlabel('Backazimuth (°)',fontsize=15)\n",
    "    ax.set_xlim(0,360)\n",
    "    ax.set_ylim(-90,90)\n",
    "    ax.grid(axis='y',color='lightgrey',lw=1)\n",
    "    ax.set_xticks(range(0,361,30))\n",
    "    ax.set_yticks(range(-90,91,30))\n",
    "    ax.vlines(x=[90,180,270],ymin=-90,ymax=90,color='lightgrey',lw=1)\n",
    "def dtPlot(ax,dtmean=None,dterror=None):\n",
    "    ax.set_ylabel('dt (s)',fontsize=15)\n",
    "    ax.set_xlabel('Backazimuth (°)',fontsize=15)\n",
    "    ax.set_xlim(0,360)\n",
    "    ax.set_ylim(0,4.2)\n",
    "    ax.grid(axis='y',color='lightgrey',lw=1)\n",
    "    ax.set_yticks(np.arange(0,4.1,0.5))\n",
    "    ax.set_yticklabels(['0','0.5','1','1.5','2','2.5','3','3.5','4'])\n",
    "    ax.set_xticks(range(0,361,30))\n",
    "    ax.vlines(x=[90,180,270],ymin=0,ymax=4.2,color='lightgrey',lw=1)\n",
    "class Meta(object):\n",
    "    def __init__(self,time=time,baz=0):\n",
    "        self.time = UTCDateTime(time)\n",
    "        self.baz = int(baz)\n",
    "        self.lon = 0\n",
    "        self.lat = 0\n",
    "        self.dep = 100\n",
    "        self.mag = 7.0\n",
    "        self.epi_dist = 120*111\n",
    "        self.gac = 120\n",
    "        self.az = 360-int(baz)\n",
    "        self.ttime = ttime\n",
    "        self.slow = 0.04\n",
    "        self.inc = 0\n",
    "        self.phase = 'SKS'\n",
    "        self.accept = True\n",
    "        self.snrq = 10.0\n",
    "        self.snrt = 5.0\n",
    "        self.maxdt = 4.0\n",
    "        self.ddt = 0.1\n",
    "        self.dphi = 1\n",
    "        self.align = 'LQT'\n",
    "        self.rotated = False\n",
    "        self.CpH = None\n",
    "        self.fmin=0.05\n",
    "        self.fmax=0.125"
   ]
  },
  {
   "cell_type": "code",
   "execution_count": 15,
   "metadata": {},
   "outputs": [
    {
     "name": "stdout",
     "output_type": "stream",
     "text": [
      "DATA_SKS_Model/XX.MOD/20220225_105927/baz_40\n",
      "DATA_SKS_Model/XX.MOD/20220225_105927/baz_10\n",
      "DATA_SKS_Model/XX.MOD/20220225_105927/baz_20\n",
      "DATA_SKS_Model/XX.MOD/20220225_105927/baz_30\n",
      "DATA_SKS_Model/XX.MOD/20220225_105927/baz_50\n",
      "DATA_SKS_Model/XX.MOD/20220225_105927/baz_60\n",
      "DATA_SKS_Model/XX.MOD/20220225_105927/baz_70\n",
      "DATA_SKS_Model/XX.MOD/20220225_105927/baz_80\n",
      "DATA_SKS_Model/XX.MOD/20220225_105927/baz_90\n",
      "baz=90 no solution!\n",
      "DATA_SKS_Model/XX.MOD/20220225_105927/baz_1\n",
      "baz=1 no solution!\n",
      "DATA_SKS_Model/XX.MOD/20220225_105927/baz_91\n",
      "baz=91 no solution!\n",
      "DATA_SKS_Model/XX.MOD/20220225_105927/baz_100\n",
      "DATA_SKS_Model/XX.MOD/20220225_105927/baz_110\n",
      "DATA_SKS_Model/XX.MOD/20220225_105927/baz_120\n",
      "DATA_SKS_Model/XX.MOD/20220225_105927/baz_130\n",
      "DATA_SKS_Model/XX.MOD/20220225_105927/baz_140\n",
      "DATA_SKS_Model/XX.MOD/20220225_105927/baz_150\n",
      "DATA_SKS_Model/XX.MOD/20220225_105927/baz_160\n",
      "DATA_SKS_Model/XX.MOD/20220225_105927/baz_170\n",
      "DATA_SKS_Model/XX.MOD/20220225_105927/baz_180\n",
      "baz=180 no solution!\n",
      "DATA_SKS_Model/XX.MOD/20220225_105927/baz_190\n",
      "DATA_SKS_Model/XX.MOD/20220225_105927/baz_200\n",
      "DATA_SKS_Model/XX.MOD/20220225_105927/baz_210\n",
      "DATA_SKS_Model/XX.MOD/20220225_105927/baz_220\n",
      "DATA_SKS_Model/XX.MOD/20220225_105927/baz_230\n",
      "DATA_SKS_Model/XX.MOD/20220225_105927/baz_240\n",
      "DATA_SKS_Model/XX.MOD/20220225_105927/baz_250\n",
      "DATA_SKS_Model/XX.MOD/20220225_105927/baz_260\n",
      "DATA_SKS_Model/XX.MOD/20220225_105927/baz_270\n",
      "baz=270 no solution!\n",
      "DATA_SKS_Model/XX.MOD/20220225_105927/baz_280\n",
      "DATA_SKS_Model/XX.MOD/20220225_105927/baz_290\n",
      "DATA_SKS_Model/XX.MOD/20220225_105927/baz_300\n",
      "DATA_SKS_Model/XX.MOD/20220225_105927/baz_310\n",
      "DATA_SKS_Model/XX.MOD/20220225_105927/baz_320\n",
      "DATA_SKS_Model/XX.MOD/20220225_105927/baz_330\n",
      "DATA_SKS_Model/XX.MOD/20220225_105927/baz_340\n",
      "DATA_SKS_Model/XX.MOD/20220225_105927/baz_350\n"
     ]
    }
   ],
   "source": [
    "result = {'baz':[],'CpH':[],\n",
    "        'RCphi':[],\n",
    "        'RCdphi':[],\n",
    "        'RCdt':[],\n",
    "        'RCddt':[],\n",
    "        'SCphi':[],\n",
    "        'SCdphi':[],\n",
    "        'SCdt':[],\n",
    "        'SCddt':[]}\n",
    "for bazpath in glob.glob(f'{datadir}/baz*'):\n",
    "    print(bazpath)\n",
    "    baz = int(bazpath.rsplit('_')[-1])\n",
    "    result['baz'].append(baz)\n",
    "    try:\n",
    "        meta, RC, SC= readPKL(bazpath)\n",
    "        result['CpH'].append(meta.CpH)\n",
    "        result['RCphi'].append(RC.phi)\n",
    "        result['RCdphi'].append(RC.ephi)\n",
    "        result['RCdt'].append(RC.dtt)\n",
    "        result['RCddt'].append(RC.edtt)\n",
    "        result['SCphi'].append(SC.phi)\n",
    "        result['SCdphi'].append(SC.ephi)\n",
    "        result['SCdt'].append(SC.dtt)\n",
    "        result['SCddt'].append(SC.edtt)\n",
    "    except:\n",
    "        print(f'baz={baz} no solution!')\n",
    "        result['CpH'].append(meta.CpH)\n",
    "        result['RCphi'].append(np.nan)\n",
    "        result['RCdphi'].append(np.nan)\n",
    "        result['RCdt'].append(np.nan)\n",
    "        result['RCddt'].append(np.nan)\n",
    "        result['SCphi'].append(np.nan)\n",
    "        result['SCdphi'].append(np.nan)\n",
    "        result['SCdt'].append(np.nan)\n",
    "        result['SCddt'].append(np.nan)"
   ]
  },
  {
   "cell_type": "code",
   "execution_count": 16,
   "metadata": {},
   "outputs": [
    {
     "data": {
      "image/png": "[encoded data removed]",
      "text/plain": [
       "<Figure size 720x576 with 5 Axes>"
      ]
     },
     "metadata": {
      "needs_background": "light"
     },
     "output_type": "display_data"
    }
   ],
   "source": [
    "plt.rc('font',family='Times New Roman')\n",
    "fig = plt.figure(figsize=(10,8))\n",
    "ax1 = plt.subplot(221); ax2 = plt.subplot(222)\n",
    "ax3 = plt.subplot(223); ax4 = plt.subplot(224)\n",
    "ax5=fig.add_subplot(311)\n",
    "ax5.set_position([0.125,0.98,0.775,0.2])\n",
    "\n",
    "\n",
    "ax1.errorbar(result['baz'],result['RCphi'],yerr=result['RCdphi'],fmt='o',markeredgecolor='k',color ='dodgerblue' ,ecolor='k',capsize=3,label='SKS')\n",
    "ax2.errorbar(result['baz'],result['SCphi'],yerr=result['SCdphi'],fmt='o',markeredgecolor='k',color ='r' ,ecolor='k',capsize=3,label='SKS')\n",
    "\n",
    "phiPlot(ax1);phiPlot(ax2)\n",
    "\n",
    "ax3.errorbar(result['baz'],result['RCdt'],yerr=result['RCddt'],fmt='o',markeredgecolor='k',color ='dodgerblue' ,ecolor='k',capsize=3,label='SKS')\n",
    "ax4.errorbar(result['baz'],result['SCdt'],yerr=result['SCddt'],fmt='o',markeredgecolor='k',color ='r' ,ecolor='k',capsize=3,label='SKS')\n",
    "dtPlot(ax3);dtPlot(ax4)\n",
    "\n",
    "ax5.grid(axis='y',color='lightgrey',lw=1)\n",
    "# ax5.hlines(y=0.9,xmin=0,xmax=360,color='r',linestyles='--',lw=1)\n",
    "# ax5.hlines(y=0.8,xmin=0,xmax=360,color='r',linestyles='--',lw=1)\n",
    "ax5.scatter(result['baz'],result['CpH'],color='k',linewidths=1)\n",
    "ax5.set_xlim(0,360)\n",
    "ax5.set_ylim(0.5,1)\n",
    "ax5.set_ylabel('CpH',fontsize=15)\n",
    "\n",
    "ax5.set_xticks(range(0,361,30))\n",
    "\n",
    "ax5.set_title(f'\\n\\nFast direction: {FD}°/{FD+180}°, Slow direction: {FD+90}°/{FD-90}°',fontsize=15)\n",
    "\n",
    "plt.savefig(f'{datapath}/XX.MOD/{time}/backazimuth_variation_v2.png',bbox_inches='tight')\n",
    "plt.savefig(f'{datapath}/XX.MOD/{time}/backazimuth_variation_v2.pdf',bbox_inches='tight')"
   ]
  },
  {
   "cell_type": "code",
   "execution_count": null,
   "metadata": {},
   "outputs": [],
   "source": []
  }
 ],
 "metadata": {
  "interpreter": {
   "hash": "c9516a2878f044e4d3175c82bcbc752c31758f8ef98e9f9e3f1f46a75e6813f0"
  },
  "kernelspec": {
   "display_name": "Python 3 (ipykernel)",
   "language": "python",
   "name": "python3"
  },
  "language_info": {
   "codemirror_mode": {
    "name": "ipython",
    "version": 3
   },
   "file_extension": ".py",
   "mimetype": "text/x-python",
   "name": "python",
   "nbconvert_exporter": "python",
   "pygments_lexer": "ipython3",
   "version": "3.9.6"
  }
 },
 "nbformat": 4,
 "nbformat_minor": 4
}
