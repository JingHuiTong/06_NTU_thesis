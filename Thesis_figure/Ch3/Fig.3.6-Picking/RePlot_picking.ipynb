{
 "cells": [
  {
   "cell_type": "code",
   "execution_count": 1,
   "id": "d6711983-e7fa-42ef-a186-67e576fcb957",
   "metadata": {},
   "outputs": [],
   "source": [
    "from obspy.clients.fdsn import Client\n",
    "from obspy import UTCDateTime,Trace\n",
    "import matplotlib.pyplot as plt \n",
    "import pickle, os ,glob\n",
    "import numpy as np\n",
    "from obspy.taup import TauPyModel\n",
    "model = TauPyModel(model=\"iasp91\")"
   ]
  },
  {
   "cell_type": "code",
   "execution_count": 24,
   "id": "b16a56cc-20bc-4017-9b1c-326f58362394",
   "metadata": {},
   "outputs": [],
   "source": [
    "Useddir   = 'KO.BCA_20151023_040418'\n",
    "NoUseddir = 'TG.AZMN_20160121_180657'\n",
    "# degdir    = 'AM.VAND_20160729_211826'"
   ]
  },
  {
   "cell_type": "code",
   "execution_count": 25,
   "id": "3b4e5235-eef2-4f34-9fa8-40b266012a75",
   "metadata": {},
   "outputs": [],
   "source": [
    "dirrr = glob.glob(f'/Volumes/home/06_NTU_thesis/Thesis_figure/Ch3/Picking/{Useddir}')"
   ]
  },
  {
   "cell_type": "code",
   "execution_count": 28,
   "id": "fafb9ab7-074d-4d99-8c11-7f80818f92ef",
   "metadata": {},
   "outputs": [],
   "source": [
    "plt.rcParams[\"font.family\"] = \"Times New Roman\"\n",
    "\n",
    "for i, dirr in enumerate([Useddir]):\n",
    "    fig = plt.figure(figsize=(6.5,4))\n",
    "    ax0 = fig.add_axes([0.05, 0.1, 0.65, 0.5])\n",
    "    i+=1\n",
    "    try: \n",
    "        manual = True\n",
    "        meta = pickle.load(open(f'{dirr}/Meta_manual.pkl', \"rb\"))\n",
    "        LQT = pickle.load(open(f'{dirr}/LQT_data.pkl', \"rb\"))\n",
    "        Station_data = pickle.load(open(f'{dirr}/Station_data.pkl', \"rb\"))\n",
    "    except:\n",
    "        manual = False\n",
    "        meta = pickle.load(open(f'{dirr}/Meta_data.pkl', \"rb\"))\n",
    "        LQT = pickle.load(open(f'{dirr}/LQT_data.pkl', \"rb\"))  \n",
    "        Station_data = pickle.load(open(f'{dirr}/Station_data.pkl', \"rb\"))\n",
    "    if manual:\n",
    "        if meta.gac <90:\n",
    "            arrivals = model.get_travel_times(source_depth_in_km=meta.dep,\n",
    "                                  distance_in_degree=meta.gac,\n",
    "                                  phase_list=[\"S\",\"ScS\"])\n",
    "            arr_S = arrivals[0].time\n",
    "            arr_ScS = arrivals[1].time\n",
    "            ax0.vlines(arr_S,ymin=-0.3,ymax=0.3, color = 'orange',ls ='--')\n",
    "            ax0.vlines(arr_ScS,ymin=-0.3,ymax=0.3, color = 'b',ls ='--')\n",
    "            \n",
    "        Pick = meta.tpicked\n",
    "        wind_start = meta.tpicked1\n",
    "        wind_end   = meta.tpicked2   \n",
    "        ax0.fill_between([wind_start,wind_end],y1=-1.2,y2=1.2,color = 'grey',alpha = 0.2)\n",
    "        ax0.vlines(meta.ttime,ymin=-0.3,ymax=0.3, color = 'grey',ls ='--')\n",
    "        ax0.vlines(Pick,ymin=-1.2,ymax=1.2, color = 'orchid',ls ='--')\n",
    "        ax0.text(Pick+1, 0.9, f'{meta.phase}', fontsize=15, color = 'orchid', ha='left',style='italic', weight='bold')\n",
    "        ax0.set_xlim(Pick-30,Pick+50)\n",
    "        ax0.text(Pick-27, 1, f'R',fontsize=15, va='top', ha='left', color='purple')\n",
    "        ax0.text(Pick-27, -1, f'T',fontsize=15, va='bottom', ha='left', color='k')\n",
    "        ax0.text(x=Pick+10, y=1.7, s=f'{meta.time}\\n{meta.lat}N {meta.lon}E {int(meta.dep)} km  Mw={meta.mag}', fontsize=14, ha='center')\n",
    "        ax0.text(x=Pick+10, y=1.4, s= f'Station: {Station_data.network}.{Station_data.station}  BAZ: {round(meta.baz,2)}° Dist: {round(meta.gac,2)}°', fontsize=13, ha='center')        \n",
    "    else:\n",
    "        ax0.vlines(meta.ttime,ymin=-0.3,ymax=0.3, color = 'grey',ls ='--')\n",
    "        ax0.set_xlim(meta.ttime-30, meta.ttime+50)\n",
    "        ax0.text(meta.ttime-27, 1, f'R',fontsize=15, va='top', ha='left', color='purple')\n",
    "        ax0.text(meta.ttime-27, -1, f'T',fontsize=15, va='bottom', ha='left', color='k') \n",
    "        ax0.text(x=meta.ttime+10, y=1.7, s=f'{meta.time}\\n{meta.lat}N {meta.lon}E {int(meta.dep)} km  Mw={meta.mag}', fontsize=14, ha='center')\n",
    "        ax0.text(x=meta.ttime+10, y=1.4, s= f'Station: {Station_data.network}.{Station_data.station}  BAZ: {round(meta.baz,2)}° Dist: {round(meta.gac,2)}°', fontsize=13, ha='center')        \n",
    "    \n",
    "        \n",
    "        \n",
    "    time = LQT[0].times(reftime=meta.time)\n",
    "    trQ  = LQT.select(component='Q')[0]\n",
    "    trT  = LQT.select(component='T')[0]\n",
    "    \n",
    "    mmax = np.amax([np.abs(trQ.data).max(),np.abs(trT.data).max()])\n",
    "    ax0.plot(time,trT.data/mmax, 'k')\n",
    "    ax0.plot(time,trQ.data/mmax, 'purple')\n",
    "    \n",
    "    ax0.set_ylim((-1.2, 1.2))\n",
    "    ax0.set_yticks([])\n",
    "\n",
    "    \n",
    "    fig.savefig(f'{dirr}_v2.png', dpi=150 ,bbox_inches='tight')\n",
    "    fig.savefig(f'{dirr}_v2.pdf',bbox_inches='tight')\n",
    "    plt.close()\n",
    "    "
   ]
  },
  {
   "cell_type": "code",
   "execution_count": 121,
   "id": "fb15a05d-0684-49cc-9b15-5906a7b704ae",
   "metadata": {},
   "outputs": [],
   "source": [
    "        arrivals = model.get_travel_times(source_depth_in_km=meta.dep,\n",
    "                                          distance_in_degree=meta.gac,\n",
    "                                          phase_list=[\"S\", \"ScS\"])"
   ]
  },
  {
   "cell_type": "code",
   "execution_count": 122,
   "id": "80437209-24a4-4bf7-b840-3094e80db02f",
   "metadata": {},
   "outputs": [
    {
     "name": "stdout",
     "output_type": "stream",
     "text": [
      "0 arrivals\n",
      "\t\n"
     ]
    }
   ],
   "source": [
    "print(arrivals)"
   ]
  },
  {
   "cell_type": "code",
   "execution_count": null,
   "id": "f26337d7-210b-448f-8f6b-78da38c8db4f",
   "metadata": {},
   "outputs": [],
   "source": []
  }
 ],
 "metadata": {
  "kernelspec": {
   "display_name": "Python 3 (ipykernel)",
   "language": "python",
   "name": "python3"
  },
  "language_info": {
   "codemirror_mode": {
    "name": "ipython",
    "version": 3
   },
   "file_extension": ".py",
   "mimetype": "text/x-python",
   "name": "python",
   "nbconvert_exporter": "python",
   "pygments_lexer": "ipython3",
   "version": "3.8.12"
  }
 },
 "nbformat": 4,
 "nbformat_minor": 5
}
