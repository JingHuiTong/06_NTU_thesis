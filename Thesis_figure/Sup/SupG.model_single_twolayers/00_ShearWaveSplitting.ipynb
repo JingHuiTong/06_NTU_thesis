{
 "cells": [
  {
   "cell_type": "code",
   "execution_count": 1,
   "metadata": {},
   "outputs": [],
   "source": [
    "from pathlib import Path\n",
    "from splitpy import arguments, utils\n",
    "from splitpy import Split, DiagPlot, PygmtPlot\n",
    "import matplotlib.pyplot as plt\n",
    "import numpy as np\n",
    "import pickle\n",
    "import stdb\n",
    "from obspy.clients.fdsn import Client\n",
    "from obspy import UTCDateTime, read\n",
    "import matplotlib\n",
    "import os, glob\n",
    "matplotlib.use('Qt5Agg')\n",
    "import warnings\n",
    "warnings.filterwarnings('ignore')"
   ]
  },
  {
   "cell_type": "code",
   "execution_count": 2,
   "metadata": {},
   "outputs": [],
   "source": [
    "datapath = 'Model_mseed'\n",
    "# timelist = ['20220524_135252','20220524_135300','20220524_135310']"
   ]
  },
  {
   "cell_type": "code",
   "execution_count": 3,
   "metadata": {},
   "outputs": [],
   "source": [
    "class Meta(object):\n",
    "    def __init__(self,time,baz=0):\n",
    "        self.time = UTCDateTime(time)\n",
    "        self.baz = int(baz)\n",
    "        self.lon = 0\n",
    "        self.lat = 0\n",
    "        self.dep = 100\n",
    "        self.mag = 7.0\n",
    "        self.epi_dist = 120*111\n",
    "        self.gac = 120\n",
    "        self.az = 360-int(baz)\n",
    "        self.ttime = ttime\n",
    "        self.slow = 0.04\n",
    "        self.inc = 0\n",
    "        self.phase = 'SKS'\n",
    "        self.accept = True\n",
    "        self.snrq = 10.0\n",
    "        self.snrt = 5.0\n",
    "        self.maxdt = 4.0\n",
    "        self.ddt = 0.1\n",
    "        self.dphi = 1\n",
    "        self.align = 'LQT'\n",
    "        self.rotated = False\n",
    "        self.CpH = None\n",
    "        self.fmin=0.05\n",
    "        self.fmax=0.125"
   ]
  },
  {
   "cell_type": "code",
   "execution_count": 9,
   "metadata": {},
   "outputs": [
    {
     "name": "stdout",
     "output_type": "stream",
     "text": [
      "Model_mseed/20221114_104127\n",
      "======================finish\n"
     ]
    }
   ],
   "source": [
    "\n",
    "db = stdb.io.load_db(fname='XX_MOD.pkl')\n",
    "stkey = 'XX.MOD'\n",
    "sta = db[stkey]\n",
    "split= Split(sta)\n",
    "for timedir  in glob.glob(f'{datapath}/*104127'):\n",
    "    print(timedir)\n",
    "    time = timedir.rsplit('/')[-1]\n",
    "    ttime = 47 ###SKS\n",
    "    tmin=ttime-10\n",
    "    tmax=ttime+20\n",
    "    datadir = f'{datapath}/{time}'\n",
    "    baz = 270\n",
    "\n",
    "\n",
    "    split.meta = Meta(time,baz)\n",
    "    \n",
    "    stafile = f'{datadir}/Station_data.pkl'\n",
    "    ZNEfile = f'{datadir}/ZNE_data.pkl'\n",
    "    LQTfile = f'{datadir}/LQT_data.pkl'\n",
    "    metafile = f'{datadir}/Meta_data.pkl'\n",
    "    splitfile = f'{datadir}/Split_results_auto.pkl'\n",
    "    RCfile = f'{datadir}/RC_res.pkl'\n",
    "    SCfile = f'{datadir}/SC_res.pkl'\n",
    "    pickle.dump(split.sta, open(stafile, \"wb\"))\n",
    "\n",
    "    st = read(f'{datadir}/*.mseed')\n",
    "    split.dataZNE = st\n",
    "    pickle.dump(split.dataZNE, open(ZNEfile, \"wb\"))\n",
    "    split.dataLQT = st.copy()\n",
    "    \n",
    "    split.dataLQT.rotate(method='ZNE->LQT', back_azimuth=split.meta.baz, inclination=split.meta.inc)\n",
    "    split.dataLQT.filter('bandpass',freqmin=split.meta.fmin, freqmax=split.meta.fmax, corners=4, zerophase=True)\n",
    "    pickle.dump(split.dataLQT, open(LQTfile, \"wb\"))     \n",
    "    \n",
    "    split.analyze(t1=split.meta.time+tmin, t2=split.meta.time+tmax, verbose=False, taper=True)\n",
    "    split.is_null(3)\n",
    "    split.get_quality(verbose=False)\n",
    "    split.particle_PCA(freqmin=split.meta.fmin, freqmax=split.meta.fmax, t1=split.meta.time+tmin, t2=split.meta.time+tmax)\n",
    "    pickle.dump(split.RC_res, open(RCfile, \"wb\"))\n",
    "    pickle.dump(split.SC_res,open(SCfile, \"wb\"))\n",
    "    pickle.dump(split.meta, open(metafile, \"wb\"))\n",
    "    dplotfile = f'{datadir}/Plot_diagnostic_auto.png'\n",
    "    dplot = DiagPlot(split)\n",
    "    dplot.plot_diagnostic(calc_type='auto', t1=split.meta.time+tmin, t2=split.meta.time+tmax)\n",
    "    plt.figure(dplot.axes[0].number)\n",
    "    dplot.save(dplotfile)\n",
    "    dplotfile = f'{datadir}/Plot_diagnostic_auto.pdf'\n",
    "    dplot.save(dplotfile)\n",
    "    print('======================finish')\n",
    "    # except:\n",
    "        # print(f'{time}° error')\n",
    "# else: print('done already! ')"
   ]
  },
  {
   "cell_type": "code",
   "execution_count": null,
   "metadata": {},
   "outputs": [],
   "source": []
  },
  {
   "cell_type": "code",
   "execution_count": null,
   "metadata": {},
   "outputs": [],
   "source": []
  }
 ],
 "metadata": {
  "interpreter": {
   "hash": "34c7fae736fe20b15c24d2eb785ff40b610e0707db5318a1e0b0a0a10fe7a5c5"
  },
  "kernelspec": {
   "display_name": "Python 3 (ipykernel)",
   "language": "python",
   "name": "python3"
  },
  "language_info": {
   "codemirror_mode": {
    "name": "ipython",
    "version": 3
   },
   "file_extension": ".py",
   "mimetype": "text/x-python",
   "name": "python",
   "nbconvert_exporter": "python",
   "pygments_lexer": "ipython3",
   "version": "3.9.6"
  }
 },
 "nbformat": 4,
 "nbformat_minor": 4
}
