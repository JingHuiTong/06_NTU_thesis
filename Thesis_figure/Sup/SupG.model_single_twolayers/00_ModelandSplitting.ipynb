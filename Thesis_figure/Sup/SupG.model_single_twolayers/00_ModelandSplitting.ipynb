{
 "cells": [
  {
   "cell_type": "code",
   "execution_count": 16,
   "metadata": {},
   "outputs": [],
   "source": [
    "import numpy as np\n",
    "from obspy.core import Stream\n",
    "from obspy import UTCDateTime\n",
    "from obspy.signal.rotate import rotate_ne_rt\n",
    "from telewavesim import utils as ut\n",
    "from telewavesim import wiggle as wg\n",
    "from telewavesim.utils import Model\n",
    "import os, glob, time\n",
    "import warnings\n",
    "import pandas as pd\n",
    "warnings.filterwarnings('ignore')"
   ]
  },
  {
   "cell_type": "code",
   "execution_count": 27,
   "metadata": {},
   "outputs": [],
   "source": [
    "modfile = './TwoLayer.txt'\n",
    "wvtype = 'SV'\n",
    "\n",
    "##-----------create waveform\n",
    "wvtype = 'SV'\n",
    "npts = 3600 # Number of samples\n",
    "dt = 0.05   # Sample distance in seconds\n",
    "slow = 0.04 # Horizontal slowness (or ray parameter) in s/km \n",
    "baz = 270"
   ]
  },
  {
   "cell_type": "code",
   "execution_count": 28,
   "metadata": {},
   "outputs": [],
   "source": [
    "def create_st(timedir,model,slow,npts,dt,baz,wvtype):\n",
    "    # Calculate the plane wave seismograms\n",
    "    trxyz = ut.run_plane(model, slow, npts, dt, baz, wvtype=wvtype)\n",
    "    # Creat dir to save trace \n",
    "    TraceDir = f'Model_mseed/{timedir}'\n",
    "    if not os.path.isdir(TraceDir):\n",
    "        os.makedirs(TraceDir)\n",
    "    # Extract East, North and Vertical\n",
    "    trxyz[0].stats.starttime = UTCDateTime(timedir)\n",
    "    trxyz[1].stats.starttime = UTCDateTime(timedir)\n",
    "    trxyz[2].stats.starttime = UTCDateTime(timedir)\n",
    "    ntr = trxyz[0]\n",
    "    etr = trxyz[1]\n",
    "    ztr = trxyz[2]\n",
    "    ntr.write(f'{TraceDir}/XX.MOD..HHN.mseed', format=\"MSEED\")\n",
    "    etr.write(f'{TraceDir}/XX.MOD..HHE.mseed', format=\"MSEED\")\n",
    "    ztr.write(f'{TraceDir}/XX.MOD..HHZ.mseed', format=\"MSEED\")\n",
    "\n",
    "    # print('====================finish')\n",
    "    return trxyz\n",
    "    "
   ]
  },
  {
   "cell_type": "code",
   "execution_count": 29,
   "metadata": {},
   "outputs": [],
   "source": [
    "model = ut.read_model(modfile)"
   ]
  },
  {
   "cell_type": "code",
   "execution_count": 20,
   "metadata": {},
   "outputs": [
    {
     "data": {
      "text/plain": [
       "['iso', 'tri', 'iso', 'iso']"
      ]
     },
     "execution_count": 20,
     "metadata": {},
     "output_type": "execute_result"
    }
   ],
   "source": [
    "model.isoflg"
   ]
  },
  {
   "cell_type": "code",
   "execution_count": 30,
   "metadata": {},
   "outputs": [
    {
     "name": "stdout",
     "output_type": "stream",
     "text": [
      "Predicted propagation time from model: 47.6 sec\n",
      "============================= 20221114_104127\n"
     ]
    }
   ],
   "source": [
    "model = ut.read_model(modfile)\n",
    "\n",
    "t1 = ut.calc_ttime(model, slow, wvtype=wvtype)\n",
    "print('Predicted propagation time from model: {0:4.1f} sec'.format(t1))\n",
    "\n",
    "\n",
    "nowtime = UTCDateTime()+8*3600 \n",
    "timedir = f'{nowtime.year}{str(nowtime.month).zfill(2)}{str(nowtime.day).zfill(2)}_{str(nowtime.hour).zfill(2)}{str(nowtime.minute).zfill(2)}{str(nowtime.second).zfill(2)}'\n",
    "print(f'============================= {timedir}')  \n",
    "\n",
    "trxyz = create_st(timedir,model,slow,npts,dt,baz,wvtype)    \n",
    "    \n",
    "\n",
    "    "
   ]
  },
  {
   "cell_type": "code",
   "execution_count": 14,
   "metadata": {},
   "outputs": [
    {
     "data": {
      "text/plain": [
       "[<matplotlib.lines.Line2D at 0x7fe211f4d4d0>]"
      ]
     },
     "execution_count": 14,
     "metadata": {},
     "output_type": "execute_result"
    },
    {
     "data": {
      "image/png": "[encoded data removed]",
      "text/plain": [
       "<Figure size 432x288 with 1 Axes>"
      ]
     },
     "metadata": {
      "needs_background": "light"
     },
     "output_type": "display_data"
    }
   ],
   "source": [
    "import matplotlib.pyplot as plt\n",
    "plt.plot(trxyz[1].times(), trxyz[1].data)"
   ]
  },
  {
   "cell_type": "code",
   "execution_count": null,
   "metadata": {},
   "outputs": [],
   "source": [
    "import "
   ]
  }
 ],
 "metadata": {
  "interpreter": {
   "hash": "c9516a2878f044e4d3175c82bcbc752c31758f8ef98e9f9e3f1f46a75e6813f0"
  },
  "kernelspec": {
   "display_name": "Python 3.7.12 ('tws')",
   "language": "python",
   "name": "python3"
  },
  "language_info": {
   "codemirror_mode": {
    "name": "ipython",
    "version": 3
   },
   "file_extension": ".py",
   "mimetype": "text/x-python",
   "name": "python",
   "nbconvert_exporter": "python",
   "pygments_lexer": "ipython3",
   "version": "3.7.12"
  },
  "orig_nbformat": 4
 },
 "nbformat": 4,
 "nbformat_minor": 2
}
